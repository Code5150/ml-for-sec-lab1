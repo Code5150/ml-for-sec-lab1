{
 "cells": [
  {
   "cell_type": "markdown",
   "id": "c1a57009",
   "metadata": {},
   "source": [
    "1.1. Обучить модель без каких-либо дополнительных условий, которая должна наилучшим\n",
    "образом отработать на тестовой выборке с точки зрения F-меры."
   ]
  },
  {
   "cell_type": "code",
   "execution_count": 1,
   "id": "257c1a5d",
   "metadata": {},
   "outputs": [],
   "source": [
    "import numpy as np\n",
    "import pandas as pd\n",
    "from sklearn.metrics import confusion_matrix, accuracy_score, ConfusionMatrixDisplay, classification_report"
   ]
  },
  {
   "cell_type": "code",
   "execution_count": 2,
   "id": "d84820f5",
   "metadata": {},
   "outputs": [],
   "source": [
    "features = pd.read_csv(\"./features_train.csv\")\n",
    "target = pd.read_csv(\"./classes_train.csv\")"
   ]
  },
  {
   "cell_type": "code",
   "execution_count": 3,
   "id": "fa36b8d0",
   "metadata": {},
   "outputs": [
    {
     "data": {
      "text/html": [
       "<div>\n",
       "<style scoped>\n",
       "    .dataframe tbody tr th:only-of-type {\n",
       "        vertical-align: middle;\n",
       "    }\n",
       "\n",
       "    .dataframe tbody tr th {\n",
       "        vertical-align: top;\n",
       "    }\n",
       "\n",
       "    .dataframe thead th {\n",
       "        text-align: right;\n",
       "    }\n",
       "</style>\n",
       "<table border=\"1\" class=\"dataframe\">\n",
       "  <thead>\n",
       "    <tr style=\"text-align: right;\">\n",
       "      <th></th>\n",
       "      <th>statuses_count</th>\n",
       "      <th>followers_count</th>\n",
       "      <th>friends_count</th>\n",
       "      <th>favourites_count</th>\n",
       "      <th>listed_count</th>\n",
       "      <th>is_default_profile</th>\n",
       "      <th>is_profile_use_background_image</th>\n",
       "      <th>is_verified</th>\n",
       "      <th>user_age</th>\n",
       "      <th>tweets_freq</th>\n",
       "      <th>followers_growth_rate</th>\n",
       "      <th>friends_growth_rate</th>\n",
       "      <th>favourites_growth_rate</th>\n",
       "      <th>listed_growth_rate</th>\n",
       "      <th>followers_friends_ratio</th>\n",
       "      <th>screen_name_length</th>\n",
       "      <th>num_digits_in_screen_name</th>\n",
       "      <th>length_of_name</th>\n",
       "      <th>num_digits_in_name</th>\n",
       "      <th>description_length</th>\n",
       "    </tr>\n",
       "  </thead>\n",
       "  <tbody>\n",
       "    <tr>\n",
       "      <th>0</th>\n",
       "      <td>5124</td>\n",
       "      <td>6641</td>\n",
       "      <td>3074</td>\n",
       "      <td>13768</td>\n",
       "      <td>126</td>\n",
       "      <td>0</td>\n",
       "      <td>0</td>\n",
       "      <td>1</td>\n",
       "      <td>2711</td>\n",
       "      <td>1.890077</td>\n",
       "      <td>2.449650</td>\n",
       "      <td>1.133899</td>\n",
       "      <td>5.078569</td>\n",
       "      <td>0.046477</td>\n",
       "      <td>2.160377</td>\n",
       "      <td>12</td>\n",
       "      <td>0</td>\n",
       "      <td>14</td>\n",
       "      <td>0</td>\n",
       "      <td>73</td>\n",
       "    </tr>\n",
       "    <tr>\n",
       "      <th>1</th>\n",
       "      <td>10672</td>\n",
       "      <td>8465</td>\n",
       "      <td>1575</td>\n",
       "      <td>4561</td>\n",
       "      <td>191</td>\n",
       "      <td>0</td>\n",
       "      <td>1</td>\n",
       "      <td>1</td>\n",
       "      <td>4424</td>\n",
       "      <td>2.412297</td>\n",
       "      <td>1.913427</td>\n",
       "      <td>0.356013</td>\n",
       "      <td>1.030967</td>\n",
       "      <td>0.043174</td>\n",
       "      <td>5.374603</td>\n",
       "      <td>11</td>\n",
       "      <td>0</td>\n",
       "      <td>23</td>\n",
       "      <td>0</td>\n",
       "      <td>142</td>\n",
       "    </tr>\n",
       "    <tr>\n",
       "      <th>2</th>\n",
       "      <td>704</td>\n",
       "      <td>3108</td>\n",
       "      <td>454</td>\n",
       "      <td>2400</td>\n",
       "      <td>77</td>\n",
       "      <td>0</td>\n",
       "      <td>0</td>\n",
       "      <td>0</td>\n",
       "      <td>1358</td>\n",
       "      <td>0.518409</td>\n",
       "      <td>2.288660</td>\n",
       "      <td>0.334315</td>\n",
       "      <td>1.767305</td>\n",
       "      <td>0.056701</td>\n",
       "      <td>6.845815</td>\n",
       "      <td>12</td>\n",
       "      <td>0</td>\n",
       "      <td>18</td>\n",
       "      <td>0</td>\n",
       "      <td>90</td>\n",
       "    </tr>\n",
       "    <tr>\n",
       "      <th>3</th>\n",
       "      <td>6091</td>\n",
       "      <td>304528</td>\n",
       "      <td>526</td>\n",
       "      <td>599</td>\n",
       "      <td>1515</td>\n",
       "      <td>0</td>\n",
       "      <td>1</td>\n",
       "      <td>1</td>\n",
       "      <td>4214</td>\n",
       "      <td>1.445420</td>\n",
       "      <td>72.265781</td>\n",
       "      <td>0.124822</td>\n",
       "      <td>0.142145</td>\n",
       "      <td>0.359516</td>\n",
       "      <td>578.950570</td>\n",
       "      <td>10</td>\n",
       "      <td>0</td>\n",
       "      <td>11</td>\n",
       "      <td>0</td>\n",
       "      <td>51</td>\n",
       "    </tr>\n",
       "    <tr>\n",
       "      <th>4</th>\n",
       "      <td>12967</td>\n",
       "      <td>13693</td>\n",
       "      <td>204</td>\n",
       "      <td>1177</td>\n",
       "      <td>452</td>\n",
       "      <td>0</td>\n",
       "      <td>1</td>\n",
       "      <td>1</td>\n",
       "      <td>3200</td>\n",
       "      <td>4.052187</td>\n",
       "      <td>4.279063</td>\n",
       "      <td>0.063750</td>\n",
       "      <td>0.367812</td>\n",
       "      <td>0.141250</td>\n",
       "      <td>67.122549</td>\n",
       "      <td>13</td>\n",
       "      <td>0</td>\n",
       "      <td>14</td>\n",
       "      <td>0</td>\n",
       "      <td>106</td>\n",
       "    </tr>\n",
       "    <tr>\n",
       "      <th>...</th>\n",
       "      <td>...</td>\n",
       "      <td>...</td>\n",
       "      <td>...</td>\n",
       "      <td>...</td>\n",
       "      <td>...</td>\n",
       "      <td>...</td>\n",
       "      <td>...</td>\n",
       "      <td>...</td>\n",
       "      <td>...</td>\n",
       "      <td>...</td>\n",
       "      <td>...</td>\n",
       "      <td>...</td>\n",
       "      <td>...</td>\n",
       "      <td>...</td>\n",
       "      <td>...</td>\n",
       "      <td>...</td>\n",
       "      <td>...</td>\n",
       "      <td>...</td>\n",
       "      <td>...</td>\n",
       "      <td>...</td>\n",
       "    </tr>\n",
       "    <tr>\n",
       "      <th>2395</th>\n",
       "      <td>109</td>\n",
       "      <td>13</td>\n",
       "      <td>2</td>\n",
       "      <td>0</td>\n",
       "      <td>5</td>\n",
       "      <td>0</td>\n",
       "      <td>0</td>\n",
       "      <td>0</td>\n",
       "      <td>788</td>\n",
       "      <td>0.138325</td>\n",
       "      <td>0.016497</td>\n",
       "      <td>0.002538</td>\n",
       "      <td>0.000000</td>\n",
       "      <td>0.006345</td>\n",
       "      <td>6.500000</td>\n",
       "      <td>9</td>\n",
       "      <td>0</td>\n",
       "      <td>9</td>\n",
       "      <td>0</td>\n",
       "      <td>124</td>\n",
       "    </tr>\n",
       "    <tr>\n",
       "      <th>2396</th>\n",
       "      <td>5503</td>\n",
       "      <td>3</td>\n",
       "      <td>0</td>\n",
       "      <td>0</td>\n",
       "      <td>2</td>\n",
       "      <td>1</td>\n",
       "      <td>1</td>\n",
       "      <td>0</td>\n",
       "      <td>1382</td>\n",
       "      <td>3.981910</td>\n",
       "      <td>0.002171</td>\n",
       "      <td>0.000000</td>\n",
       "      <td>0.000000</td>\n",
       "      <td>0.001447</td>\n",
       "      <td>23524.000000</td>\n",
       "      <td>10</td>\n",
       "      <td>0</td>\n",
       "      <td>18</td>\n",
       "      <td>0</td>\n",
       "      <td>8</td>\n",
       "    </tr>\n",
       "    <tr>\n",
       "      <th>2397</th>\n",
       "      <td>2172</td>\n",
       "      <td>35504</td>\n",
       "      <td>0</td>\n",
       "      <td>2</td>\n",
       "      <td>140</td>\n",
       "      <td>1</td>\n",
       "      <td>1</td>\n",
       "      <td>0</td>\n",
       "      <td>1813</td>\n",
       "      <td>1.198014</td>\n",
       "      <td>19.583012</td>\n",
       "      <td>0.000000</td>\n",
       "      <td>0.001103</td>\n",
       "      <td>0.077220</td>\n",
       "      <td>23524.000000</td>\n",
       "      <td>15</td>\n",
       "      <td>0</td>\n",
       "      <td>16</td>\n",
       "      <td>0</td>\n",
       "      <td>130</td>\n",
       "    </tr>\n",
       "    <tr>\n",
       "      <th>2398</th>\n",
       "      <td>2513</td>\n",
       "      <td>19</td>\n",
       "      <td>0</td>\n",
       "      <td>0</td>\n",
       "      <td>4</td>\n",
       "      <td>1</td>\n",
       "      <td>1</td>\n",
       "      <td>0</td>\n",
       "      <td>1274</td>\n",
       "      <td>1.972527</td>\n",
       "      <td>0.014914</td>\n",
       "      <td>0.000000</td>\n",
       "      <td>0.000000</td>\n",
       "      <td>0.003140</td>\n",
       "      <td>23524.000000</td>\n",
       "      <td>14</td>\n",
       "      <td>0</td>\n",
       "      <td>17</td>\n",
       "      <td>0</td>\n",
       "      <td>95</td>\n",
       "    </tr>\n",
       "    <tr>\n",
       "      <th>2399</th>\n",
       "      <td>7713</td>\n",
       "      <td>723</td>\n",
       "      <td>0</td>\n",
       "      <td>0</td>\n",
       "      <td>9</td>\n",
       "      <td>1</td>\n",
       "      <td>1</td>\n",
       "      <td>0</td>\n",
       "      <td>1656</td>\n",
       "      <td>4.657609</td>\n",
       "      <td>0.436594</td>\n",
       "      <td>0.000000</td>\n",
       "      <td>0.000000</td>\n",
       "      <td>0.005435</td>\n",
       "      <td>23524.000000</td>\n",
       "      <td>14</td>\n",
       "      <td>0</td>\n",
       "      <td>13</td>\n",
       "      <td>0</td>\n",
       "      <td>79</td>\n",
       "    </tr>\n",
       "  </tbody>\n",
       "</table>\n",
       "<p>2400 rows × 20 columns</p>\n",
       "</div>"
      ],
      "text/plain": [
       "      statuses_count  followers_count  friends_count  favourites_count  \\\n",
       "0               5124             6641           3074             13768   \n",
       "1              10672             8465           1575              4561   \n",
       "2                704             3108            454              2400   \n",
       "3               6091           304528            526               599   \n",
       "4              12967            13693            204              1177   \n",
       "...              ...              ...            ...               ...   \n",
       "2395             109               13              2                 0   \n",
       "2396            5503                3              0                 0   \n",
       "2397            2172            35504              0                 2   \n",
       "2398            2513               19              0                 0   \n",
       "2399            7713              723              0                 0   \n",
       "\n",
       "      listed_count  is_default_profile  is_profile_use_background_image  \\\n",
       "0              126                   0                                0   \n",
       "1              191                   0                                1   \n",
       "2               77                   0                                0   \n",
       "3             1515                   0                                1   \n",
       "4              452                   0                                1   \n",
       "...            ...                 ...                              ...   \n",
       "2395             5                   0                                0   \n",
       "2396             2                   1                                1   \n",
       "2397           140                   1                                1   \n",
       "2398             4                   1                                1   \n",
       "2399             9                   1                                1   \n",
       "\n",
       "      is_verified  user_age  tweets_freq  followers_growth_rate  \\\n",
       "0               1      2711     1.890077               2.449650   \n",
       "1               1      4424     2.412297               1.913427   \n",
       "2               0      1358     0.518409               2.288660   \n",
       "3               1      4214     1.445420              72.265781   \n",
       "4               1      3200     4.052187               4.279063   \n",
       "...           ...       ...          ...                    ...   \n",
       "2395            0       788     0.138325               0.016497   \n",
       "2396            0      1382     3.981910               0.002171   \n",
       "2397            0      1813     1.198014              19.583012   \n",
       "2398            0      1274     1.972527               0.014914   \n",
       "2399            0      1656     4.657609               0.436594   \n",
       "\n",
       "      friends_growth_rate  favourites_growth_rate  listed_growth_rate  \\\n",
       "0                1.133899                5.078569            0.046477   \n",
       "1                0.356013                1.030967            0.043174   \n",
       "2                0.334315                1.767305            0.056701   \n",
       "3                0.124822                0.142145            0.359516   \n",
       "4                0.063750                0.367812            0.141250   \n",
       "...                   ...                     ...                 ...   \n",
       "2395             0.002538                0.000000            0.006345   \n",
       "2396             0.000000                0.000000            0.001447   \n",
       "2397             0.000000                0.001103            0.077220   \n",
       "2398             0.000000                0.000000            0.003140   \n",
       "2399             0.000000                0.000000            0.005435   \n",
       "\n",
       "      followers_friends_ratio  screen_name_length  num_digits_in_screen_name  \\\n",
       "0                    2.160377                  12                          0   \n",
       "1                    5.374603                  11                          0   \n",
       "2                    6.845815                  12                          0   \n",
       "3                  578.950570                  10                          0   \n",
       "4                   67.122549                  13                          0   \n",
       "...                       ...                 ...                        ...   \n",
       "2395                 6.500000                   9                          0   \n",
       "2396             23524.000000                  10                          0   \n",
       "2397             23524.000000                  15                          0   \n",
       "2398             23524.000000                  14                          0   \n",
       "2399             23524.000000                  14                          0   \n",
       "\n",
       "      length_of_name  num_digits_in_name  description_length  \n",
       "0                 14                   0                  73  \n",
       "1                 23                   0                 142  \n",
       "2                 18                   0                  90  \n",
       "3                 11                   0                  51  \n",
       "4                 14                   0                 106  \n",
       "...              ...                 ...                 ...  \n",
       "2395               9                   0                 124  \n",
       "2396              18                   0                   8  \n",
       "2397              16                   0                 130  \n",
       "2398              17                   0                  95  \n",
       "2399              13                   0                  79  \n",
       "\n",
       "[2400 rows x 20 columns]"
      ]
     },
     "execution_count": 3,
     "metadata": {},
     "output_type": "execute_result"
    }
   ],
   "source": [
    "features"
   ]
  },
  {
   "cell_type": "code",
   "execution_count": 3,
   "id": "4fa218b0",
   "metadata": {},
   "outputs": [
    {
     "data": {
      "text/html": [
       "<div>\n",
       "<style scoped>\n",
       "    .dataframe tbody tr th:only-of-type {\n",
       "        vertical-align: middle;\n",
       "    }\n",
       "\n",
       "    .dataframe tbody tr th {\n",
       "        vertical-align: top;\n",
       "    }\n",
       "\n",
       "    .dataframe thead th {\n",
       "        text-align: right;\n",
       "    }\n",
       "</style>\n",
       "<table border=\"1\" class=\"dataframe\">\n",
       "  <thead>\n",
       "    <tr style=\"text-align: right;\">\n",
       "      <th></th>\n",
       "      <th>statuses_count</th>\n",
       "      <th>followers_count</th>\n",
       "      <th>friends_count</th>\n",
       "      <th>favourites_count</th>\n",
       "      <th>listed_count</th>\n",
       "      <th>is_default_profile</th>\n",
       "      <th>is_profile_use_background_image</th>\n",
       "      <th>is_verified</th>\n",
       "      <th>user_age</th>\n",
       "      <th>tweets_freq</th>\n",
       "      <th>followers_growth_rate</th>\n",
       "      <th>friends_growth_rate</th>\n",
       "      <th>favourites_growth_rate</th>\n",
       "      <th>listed_growth_rate</th>\n",
       "      <th>followers_friends_ratio</th>\n",
       "      <th>screen_name_length</th>\n",
       "      <th>num_digits_in_screen_name</th>\n",
       "      <th>length_of_name</th>\n",
       "      <th>num_digits_in_name</th>\n",
       "      <th>description_length</th>\n",
       "    </tr>\n",
       "  </thead>\n",
       "  <tbody>\n",
       "    <tr>\n",
       "      <th>2038</th>\n",
       "      <td>31921</td>\n",
       "      <td>95</td>\n",
       "      <td>2</td>\n",
       "      <td>1</td>\n",
       "      <td>7</td>\n",
       "      <td>1</td>\n",
       "      <td>1</td>\n",
       "      <td>0</td>\n",
       "      <td>1581</td>\n",
       "      <td>20.190386</td>\n",
       "      <td>0.060089</td>\n",
       "      <td>0.001265</td>\n",
       "      <td>0.000633</td>\n",
       "      <td>0.004428</td>\n",
       "      <td>47.500000</td>\n",
       "      <td>12</td>\n",
       "      <td>0</td>\n",
       "      <td>15</td>\n",
       "      <td>0</td>\n",
       "      <td>143</td>\n",
       "    </tr>\n",
       "    <tr>\n",
       "      <th>782</th>\n",
       "      <td>7659</td>\n",
       "      <td>3554</td>\n",
       "      <td>410</td>\n",
       "      <td>480</td>\n",
       "      <td>158</td>\n",
       "      <td>0</td>\n",
       "      <td>1</td>\n",
       "      <td>1</td>\n",
       "      <td>3998</td>\n",
       "      <td>1.915708</td>\n",
       "      <td>0.888944</td>\n",
       "      <td>0.102551</td>\n",
       "      <td>0.120060</td>\n",
       "      <td>0.039520</td>\n",
       "      <td>8.668293</td>\n",
       "      <td>10</td>\n",
       "      <td>0</td>\n",
       "      <td>14</td>\n",
       "      <td>0</td>\n",
       "      <td>107</td>\n",
       "    </tr>\n",
       "    <tr>\n",
       "      <th>251</th>\n",
       "      <td>5302</td>\n",
       "      <td>3586</td>\n",
       "      <td>1611</td>\n",
       "      <td>3323</td>\n",
       "      <td>186</td>\n",
       "      <td>0</td>\n",
       "      <td>1</td>\n",
       "      <td>1</td>\n",
       "      <td>4647</td>\n",
       "      <td>1.140951</td>\n",
       "      <td>0.771681</td>\n",
       "      <td>0.346675</td>\n",
       "      <td>0.715085</td>\n",
       "      <td>0.040026</td>\n",
       "      <td>2.225947</td>\n",
       "      <td>9</td>\n",
       "      <td>0</td>\n",
       "      <td>10</td>\n",
       "      <td>0</td>\n",
       "      <td>60</td>\n",
       "    </tr>\n",
       "    <tr>\n",
       "      <th>549</th>\n",
       "      <td>11924</td>\n",
       "      <td>75784</td>\n",
       "      <td>3512</td>\n",
       "      <td>19863</td>\n",
       "      <td>209</td>\n",
       "      <td>0</td>\n",
       "      <td>1</td>\n",
       "      <td>1</td>\n",
       "      <td>4375</td>\n",
       "      <td>2.725486</td>\n",
       "      <td>17.322057</td>\n",
       "      <td>0.802743</td>\n",
       "      <td>4.540114</td>\n",
       "      <td>0.047771</td>\n",
       "      <td>21.578588</td>\n",
       "      <td>7</td>\n",
       "      <td>0</td>\n",
       "      <td>14</td>\n",
       "      <td>0</td>\n",
       "      <td>159</td>\n",
       "    </tr>\n",
       "    <tr>\n",
       "      <th>1860</th>\n",
       "      <td>1129</td>\n",
       "      <td>39</td>\n",
       "      <td>0</td>\n",
       "      <td>0</td>\n",
       "      <td>4</td>\n",
       "      <td>1</td>\n",
       "      <td>1</td>\n",
       "      <td>0</td>\n",
       "      <td>1350</td>\n",
       "      <td>0.836296</td>\n",
       "      <td>0.028889</td>\n",
       "      <td>0.000000</td>\n",
       "      <td>0.000000</td>\n",
       "      <td>0.002963</td>\n",
       "      <td>23524.000000</td>\n",
       "      <td>15</td>\n",
       "      <td>0</td>\n",
       "      <td>15</td>\n",
       "      <td>0</td>\n",
       "      <td>116</td>\n",
       "    </tr>\n",
       "    <tr>\n",
       "      <th>...</th>\n",
       "      <td>...</td>\n",
       "      <td>...</td>\n",
       "      <td>...</td>\n",
       "      <td>...</td>\n",
       "      <td>...</td>\n",
       "      <td>...</td>\n",
       "      <td>...</td>\n",
       "      <td>...</td>\n",
       "      <td>...</td>\n",
       "      <td>...</td>\n",
       "      <td>...</td>\n",
       "      <td>...</td>\n",
       "      <td>...</td>\n",
       "      <td>...</td>\n",
       "      <td>...</td>\n",
       "      <td>...</td>\n",
       "      <td>...</td>\n",
       "      <td>...</td>\n",
       "      <td>...</td>\n",
       "      <td>...</td>\n",
       "    </tr>\n",
       "    <tr>\n",
       "      <th>1852</th>\n",
       "      <td>24063</td>\n",
       "      <td>167</td>\n",
       "      <td>30</td>\n",
       "      <td>9</td>\n",
       "      <td>25</td>\n",
       "      <td>0</td>\n",
       "      <td>0</td>\n",
       "      <td>0</td>\n",
       "      <td>1957</td>\n",
       "      <td>12.295861</td>\n",
       "      <td>0.085335</td>\n",
       "      <td>0.015330</td>\n",
       "      <td>0.004599</td>\n",
       "      <td>0.012775</td>\n",
       "      <td>5.566667</td>\n",
       "      <td>8</td>\n",
       "      <td>0</td>\n",
       "      <td>9</td>\n",
       "      <td>0</td>\n",
       "      <td>129</td>\n",
       "    </tr>\n",
       "    <tr>\n",
       "      <th>481</th>\n",
       "      <td>14147</td>\n",
       "      <td>268377</td>\n",
       "      <td>47683</td>\n",
       "      <td>58152</td>\n",
       "      <td>281</td>\n",
       "      <td>0</td>\n",
       "      <td>1</td>\n",
       "      <td>1</td>\n",
       "      <td>2864</td>\n",
       "      <td>4.939595</td>\n",
       "      <td>93.707053</td>\n",
       "      <td>16.649092</td>\n",
       "      <td>20.304469</td>\n",
       "      <td>0.098115</td>\n",
       "      <td>5.628358</td>\n",
       "      <td>15</td>\n",
       "      <td>0</td>\n",
       "      <td>8</td>\n",
       "      <td>0</td>\n",
       "      <td>147</td>\n",
       "    </tr>\n",
       "    <tr>\n",
       "      <th>1517</th>\n",
       "      <td>2035</td>\n",
       "      <td>1032</td>\n",
       "      <td>576</td>\n",
       "      <td>1125</td>\n",
       "      <td>42</td>\n",
       "      <td>0</td>\n",
       "      <td>1</td>\n",
       "      <td>1</td>\n",
       "      <td>4313</td>\n",
       "      <td>0.471829</td>\n",
       "      <td>0.239277</td>\n",
       "      <td>0.133550</td>\n",
       "      <td>0.260839</td>\n",
       "      <td>0.009738</td>\n",
       "      <td>1.791667</td>\n",
       "      <td>13</td>\n",
       "      <td>0</td>\n",
       "      <td>14</td>\n",
       "      <td>0</td>\n",
       "      <td>151</td>\n",
       "    </tr>\n",
       "    <tr>\n",
       "      <th>1127</th>\n",
       "      <td>3991</td>\n",
       "      <td>9450</td>\n",
       "      <td>5986</td>\n",
       "      <td>6493</td>\n",
       "      <td>52</td>\n",
       "      <td>0</td>\n",
       "      <td>1</td>\n",
       "      <td>1</td>\n",
       "      <td>4390</td>\n",
       "      <td>0.909112</td>\n",
       "      <td>2.152620</td>\n",
       "      <td>1.363554</td>\n",
       "      <td>1.479043</td>\n",
       "      <td>0.011845</td>\n",
       "      <td>1.578684</td>\n",
       "      <td>14</td>\n",
       "      <td>0</td>\n",
       "      <td>20</td>\n",
       "      <td>0</td>\n",
       "      <td>137</td>\n",
       "    </tr>\n",
       "    <tr>\n",
       "      <th>493</th>\n",
       "      <td>24011</td>\n",
       "      <td>5973</td>\n",
       "      <td>685</td>\n",
       "      <td>4765</td>\n",
       "      <td>158</td>\n",
       "      <td>1</td>\n",
       "      <td>1</td>\n",
       "      <td>1</td>\n",
       "      <td>4375</td>\n",
       "      <td>5.488229</td>\n",
       "      <td>1.365257</td>\n",
       "      <td>0.156571</td>\n",
       "      <td>1.089143</td>\n",
       "      <td>0.036114</td>\n",
       "      <td>8.719708</td>\n",
       "      <td>12</td>\n",
       "      <td>0</td>\n",
       "      <td>16</td>\n",
       "      <td>0</td>\n",
       "      <td>133</td>\n",
       "    </tr>\n",
       "  </tbody>\n",
       "</table>\n",
       "<p>1680 rows × 20 columns</p>\n",
       "</div>"
      ],
      "text/plain": [
       "      statuses_count  followers_count  friends_count  favourites_count  \\\n",
       "2038           31921               95              2                 1   \n",
       "782             7659             3554            410               480   \n",
       "251             5302             3586           1611              3323   \n",
       "549            11924            75784           3512             19863   \n",
       "1860            1129               39              0                 0   \n",
       "...              ...              ...            ...               ...   \n",
       "1852           24063              167             30                 9   \n",
       "481            14147           268377          47683             58152   \n",
       "1517            2035             1032            576              1125   \n",
       "1127            3991             9450           5986              6493   \n",
       "493            24011             5973            685              4765   \n",
       "\n",
       "      listed_count  is_default_profile  is_profile_use_background_image  \\\n",
       "2038             7                   1                                1   \n",
       "782            158                   0                                1   \n",
       "251            186                   0                                1   \n",
       "549            209                   0                                1   \n",
       "1860             4                   1                                1   \n",
       "...            ...                 ...                              ...   \n",
       "1852            25                   0                                0   \n",
       "481            281                   0                                1   \n",
       "1517            42                   0                                1   \n",
       "1127            52                   0                                1   \n",
       "493            158                   1                                1   \n",
       "\n",
       "      is_verified  user_age  tweets_freq  followers_growth_rate  \\\n",
       "2038            0      1581    20.190386               0.060089   \n",
       "782             1      3998     1.915708               0.888944   \n",
       "251             1      4647     1.140951               0.771681   \n",
       "549             1      4375     2.725486              17.322057   \n",
       "1860            0      1350     0.836296               0.028889   \n",
       "...           ...       ...          ...                    ...   \n",
       "1852            0      1957    12.295861               0.085335   \n",
       "481             1      2864     4.939595              93.707053   \n",
       "1517            1      4313     0.471829               0.239277   \n",
       "1127            1      4390     0.909112               2.152620   \n",
       "493             1      4375     5.488229               1.365257   \n",
       "\n",
       "      friends_growth_rate  favourites_growth_rate  listed_growth_rate  \\\n",
       "2038             0.001265                0.000633            0.004428   \n",
       "782              0.102551                0.120060            0.039520   \n",
       "251              0.346675                0.715085            0.040026   \n",
       "549              0.802743                4.540114            0.047771   \n",
       "1860             0.000000                0.000000            0.002963   \n",
       "...                   ...                     ...                 ...   \n",
       "1852             0.015330                0.004599            0.012775   \n",
       "481             16.649092               20.304469            0.098115   \n",
       "1517             0.133550                0.260839            0.009738   \n",
       "1127             1.363554                1.479043            0.011845   \n",
       "493              0.156571                1.089143            0.036114   \n",
       "\n",
       "      followers_friends_ratio  screen_name_length  num_digits_in_screen_name  \\\n",
       "2038                47.500000                  12                          0   \n",
       "782                  8.668293                  10                          0   \n",
       "251                  2.225947                   9                          0   \n",
       "549                 21.578588                   7                          0   \n",
       "1860             23524.000000                  15                          0   \n",
       "...                       ...                 ...                        ...   \n",
       "1852                 5.566667                   8                          0   \n",
       "481                  5.628358                  15                          0   \n",
       "1517                 1.791667                  13                          0   \n",
       "1127                 1.578684                  14                          0   \n",
       "493                  8.719708                  12                          0   \n",
       "\n",
       "      length_of_name  num_digits_in_name  description_length  \n",
       "2038              15                   0                 143  \n",
       "782               14                   0                 107  \n",
       "251               10                   0                  60  \n",
       "549               14                   0                 159  \n",
       "1860              15                   0                 116  \n",
       "...              ...                 ...                 ...  \n",
       "1852               9                   0                 129  \n",
       "481                8                   0                 147  \n",
       "1517              14                   0                 151  \n",
       "1127              20                   0                 137  \n",
       "493               16                   0                 133  \n",
       "\n",
       "[1680 rows x 20 columns]"
      ]
     },
     "execution_count": 3,
     "metadata": {},
     "output_type": "execute_result"
    }
   ],
   "source": [
    "from sklearn.model_selection import train_test_split\n",
    "\n",
    "X_train, X_test, y_train, y_test = train_test_split(features, target, test_size=0.3, random_state=574836)\n",
    "X_train"
   ]
  },
  {
   "cell_type": "markdown",
   "id": "3730971c",
   "metadata": {},
   "source": [
    "Дерево решений из scikit-learn:"
   ]
  },
  {
   "cell_type": "code",
   "execution_count": 7,
   "id": "313b64bf",
   "metadata": {},
   "outputs": [],
   "source": [
    "from sklearn import tree\n",
    "\n",
    "clf = tree.DecisionTreeClassifier()\n",
    "clf = clf.fit(X_train, y_train)\n",
    "y_pred = clf.predict(X_test)"
   ]
  },
  {
   "cell_type": "code",
   "execution_count": 8,
   "id": "45303ea8",
   "metadata": {},
   "outputs": [
    {
     "name": "stdout",
     "output_type": "stream",
     "text": [
      "              precision    recall  f1-score   support\n",
      "\n",
      "       human       0.99      0.99      0.99       543\n",
      "         bot       0.98      0.98      0.98       177\n",
      "\n",
      "    accuracy                           0.99       720\n",
      "   macro avg       0.99      0.99      0.99       720\n",
      "weighted avg       0.99      0.99      0.99       720\n",
      "\n"
     ]
    },
    {
     "data": {
      "image/png": "[encoded data removed]",
      "text/plain": [
       "<Figure size 640x480 with 2 Axes>"
      ]
     },
     "metadata": {},
     "output_type": "display_data"
    }
   ],
   "source": [
    "ConfusionMatrixDisplay(confusion_matrix(y_test, y_pred)).plot()\n",
    "print(classification_report(y_test, y_pred, target_names=['human', 'bot']))"
   ]
  },
  {
   "cell_type": "markdown",
   "id": "1527d9f9",
   "metadata": {},
   "source": [
    "Градиентный бустинг из CatBoost:"
   ]
  },
  {
   "cell_type": "markdown",
   "id": "1cc8bdb0",
   "metadata": {},
   "source": [
    "Кросс-валидация:"
   ]
  },
  {
   "cell_type": "code",
   "execution_count": 44,
   "id": "26d8665a",
   "metadata": {},
   "outputs": [
    {
     "data": {
      "application/vnd.jupyter.widget-view+json": {
       "model_id": "8ad5e5a102fa4f6baba19234c22c80dc",
       "version_major": 2,
       "version_minor": 0
      },
      "text/plain": [
       "MetricVisualizer(layout=Layout(align_self='stretch', height='500px'))"
      ]
     },
     "metadata": {},
     "output_type": "display_data"
    },
    {
     "name": "stdout",
     "output_type": "stream",
     "text": [
      "Training on fold [0/5]\n",
      "\n",
      "bestTest = 0.01648863948\n",
      "bestIteration = 154\n",
      "\n",
      "Training on fold [1/5]\n",
      "\n",
      "bestTest = 0.003984966114\n",
      "bestIteration = 38\n",
      "\n",
      "Training on fold [2/5]\n",
      "\n",
      "bestTest = 0.004306946447\n",
      "bestIteration = 32\n",
      "\n",
      "Training on fold [3/5]\n",
      "\n",
      "bestTest = 0.007686137431\n",
      "bestIteration = 199\n",
      "\n",
      "Training on fold [4/5]\n",
      "\n",
      "bestTest = 0.002566814194\n",
      "bestIteration = 185\n",
      "\n",
      "Best validation Logloss score, stratified: 0.0071+/-0.006 on step 199\n",
      "Best validation F1 score, stratified: 0.9776+/-0.014 on step 0\n"
     ]
    }
   ],
   "source": [
    "import catboost\n",
    "from catboost import * \n",
    "from catboost import cv\n",
    "\n",
    "CX_train, CX_test, cy_train, cy_test = train_test_split(X_train, y_train, test_size=0.3, random_state=574836)\n",
    "\n",
    "params = {\n",
    "    'loss_function': 'Logloss',\n",
    "    'iterations': 200,\n",
    "    'custom_loss': 'F1',\n",
    "    'random_seed': 63,\n",
    "    'learning_rate': 0.25\n",
    "}\n",
    "\n",
    "cv_data = cv(\n",
    "    params=params,\n",
    "    pool=Pool(CX_train, label=cy_train),\n",
    "    fold_count=5,\n",
    "    shuffle=True,\n",
    "    partition_random_seed=0,\n",
    "    plot=True,\n",
    "    stratified=True, \n",
    "    verbose=False\n",
    ")\n",
    "\n",
    "best_value = np.min(cv_data['test-Logloss-mean'])\n",
    "best_iter = np.argmin(cv_data['test-Logloss-mean'])\n",
    "print(\"Best validation Logloss score, stratified: {:.4f}+/-{:.3f} on step {}\".format(\n",
    "best_value, cv_data['test-Logloss-std'][best_iter], best_iter))\n",
    "best_value = np.min(cv_data['test-F1-mean'])\n",
    "best_iter = np.argmin(cv_data['test-F1-mean'])\n",
    "print(\"Best validation F1 score, stratified: {:.4f}+/-{:.3f} on step {}\".format(\n",
    "best_value, cv_data['test-F1-std'][best_iter], best_iter))"
   ]
  },
  {
   "cell_type": "code",
   "execution_count": 37,
   "id": "fdac2a9b",
   "metadata": {},
   "outputs": [
    {
     "data": {
      "application/vnd.jupyter.widget-view+json": {
       "model_id": "0f7d20e01f6e465f829833c123539722",
       "version_major": 2,
       "version_minor": 0
      },
      "text/plain": [
       "MetricVisualizer(layout=Layout(align_self='stretch', height='500px'))"
      ]
     },
     "metadata": {},
     "output_type": "display_data"
    },
    {
     "name": "stdout",
     "output_type": "stream",
     "text": [
      "Model is fitted: True\n",
      "Model params: {'iterations': 200, 'learning_rate': 0.25, 'random_seed': 63, 'eval_metric': 'F1', 'early_stopping_rounds': 20}\n"
     ]
    }
   ],
   "source": [
    "from catboost import CatBoostClassifier\n",
    "\n",
    "model = CatBoostClassifier(\n",
    "    iterations=200,\n",
    "    learning_rate=0.25,\n",
    "    eval_metric='F1',\n",
    "    random_seed=63,\n",
    "    early_stopping_rounds=20\n",
    ")\n",
    "\n",
    "model.fit(CX_train, cy_train,\n",
    "         eval_set=(CX_test, cy_test),\n",
    "          verbose=False, plot=True\n",
    ")\n",
    "\n",
    "print(f\"Model is fitted: {str(model.is_fitted())}\")\n",
    "print(f\"Model params: {model.get_params()}\")"
   ]
  },
  {
   "cell_type": "code",
   "execution_count": 38,
   "id": "f5538dc6",
   "metadata": {},
   "outputs": [],
   "source": [
    "cy_pred = model.predict(X_test)"
   ]
  },
  {
   "cell_type": "code",
   "execution_count": 39,
   "id": "02541e54",
   "metadata": {},
   "outputs": [
    {
     "name": "stdout",
     "output_type": "stream",
     "text": [
      "              precision    recall  f1-score   support\n",
      "\n",
      "       human       1.00      1.00      1.00       543\n",
      "         bot       0.99      1.00      0.99       177\n",
      "\n",
      "    accuracy                           1.00       720\n",
      "   macro avg       0.99      1.00      1.00       720\n",
      "weighted avg       1.00      1.00      1.00       720\n",
      "\n"
     ]
    },
    {
     "data": {
      "image/png": "[encoded data removed]",
      "text/plain": [
       "<Figure size 640x480 with 2 Axes>"
      ]
     },
     "metadata": {},
     "output_type": "display_data"
    }
   ],
   "source": [
    "ConfusionMatrixDisplay(confusion_matrix(y_test, cy_pred)).plot()\n",
    "print(classification_report(y_test, cy_pred, target_names=['human', 'bot']))"
   ]
  },
  {
   "cell_type": "markdown",
   "id": "44dd67b3",
   "metadata": {},
   "source": [
    "По результатам обучения на полной выборке разные классификаторы показывают точность, близкую к 100%."
   ]
  },
  {
   "cell_type": "markdown",
   "id": "bee5bf2c",
   "metadata": {},
   "source": [
    "2.1. Максимально логичным образом обучить качественную модель, использующую для\n",
    "работы только 10 признаков из всего исходного множества."
   ]
  },
  {
   "cell_type": "markdown",
   "id": "f7d356ec",
   "metadata": {},
   "source": [
    "Для сокращения пространства признаков используем алгоритм UMAP:"
   ]
  },
  {
   "cell_type": "code",
   "execution_count": 4,
   "id": "f826a656",
   "metadata": {},
   "outputs": [
    {
     "data": {
      "text/plain": [
       "array([[ 9.868925 ,  6.3905535,  3.2454762, ...,  5.353486 ,  6.771578 ,\n",
       "         6.0864577],\n",
       "       [10.421082 ,  7.0427084,  3.1430628, ...,  4.9725556,  6.3383327,\n",
       "         5.636351 ],\n",
       "       [12.95016  ,  8.825157 ,  6.0631237, ...,  5.4719987,  7.0253615,\n",
       "         6.7189655],\n",
       "       ...,\n",
       "       [ 8.55253  ,  5.186981 ,  1.9418566, ...,  4.4049916,  6.0453343,\n",
       "         4.859159 ],\n",
       "       [-3.7591155, 11.271693 ,  2.3712454, ...,  4.475305 ,  7.0974827,\n",
       "         5.8237267],\n",
       "       [-2.7079208, 10.593458 ,  1.7862995, ...,  4.7844467,  7.3379965,\n",
       "         5.247711 ]], dtype=float32)"
      ]
     },
     "execution_count": 4,
     "metadata": {},
     "output_type": "execute_result"
    }
   ],
   "source": [
    "import umap\n",
    "\n",
    "embedding = umap.UMAP(n_components=10, n_neighbors=30, min_dist=0.09).fit_transform(features)\n",
    "embedding"
   ]
  },
  {
   "cell_type": "code",
   "execution_count": 5,
   "id": "68c33356",
   "metadata": {},
   "outputs": [],
   "source": [
    "EX_train, EX_test, ey_train, ey_test = train_test_split(embedding, target, test_size=0.25, random_state=8744)"
   ]
  },
  {
   "cell_type": "code",
   "execution_count": 21,
   "id": "4b97e6a3",
   "metadata": {},
   "outputs": [
    {
     "name": "stderr",
     "output_type": "stream",
     "text": [
      "C:\\Users\\Vladislav\\anaconda3\\lib\\site-packages\\sklearn\\utils\\validation.py:993: DataConversionWarning: A column-vector y was passed when a 1d array was expected. Please change the shape of y to (n_samples, ), for example using ravel().\n",
      "  y = column_or_1d(y, warn=True)\n"
     ]
    }
   ],
   "source": [
    "from sklearn import svm\n",
    "from sklearn.ensemble import RandomForestClassifier\n",
    "\n",
    "svm = svm.SVC(kernel='linear', C=1.0)\n",
    "svm = svm.fit(EX_train, ey_train)\n",
    "ey_pred = svm.predict(EX_test)\n",
    "#ey_train.values.reshape(ey_train.values.shape[0])"
   ]
  },
  {
   "cell_type": "code",
   "execution_count": 22,
   "id": "1ee4f192",
   "metadata": {},
   "outputs": [
    {
     "name": "stdout",
     "output_type": "stream",
     "text": [
      "              precision    recall  f1-score   support\n",
      "\n",
      "       human       0.94      0.99      0.97       448\n",
      "         bot       0.98      0.82      0.89       152\n",
      "\n",
      "    accuracy                           0.95       600\n",
      "   macro avg       0.96      0.90      0.93       600\n",
      "weighted avg       0.95      0.95      0.95       600\n",
      "\n"
     ]
    },
    {
     "data": {
      "image/png": "[encoded data removed]",
      "text/plain": [
       "<Figure size 640x480 with 2 Axes>"
      ]
     },
     "metadata": {},
     "output_type": "display_data"
    }
   ],
   "source": [
    "ConfusionMatrixDisplay(confusion_matrix(ey_test, ey_pred)).plot()\n",
    "print(classification_report(ey_test, ey_pred, target_names=['human', 'bot']))"
   ]
  },
  {
   "cell_type": "code",
   "execution_count": 29,
   "id": "5bcc65a6",
   "metadata": {},
   "outputs": [
    {
     "data": {
      "text/plain": [
       "<matplotlib.legend.Legend at 0x216a7a4a460>"
      ]
     },
     "execution_count": 29,
     "metadata": {},
     "output_type": "execute_result"
    },
    {
     "data": {
      "image/png": "[encoded data removed]",
      "text/plain": [
       "<Figure size 640x480 with 1 Axes>"
      ]
     },
     "metadata": {},
     "output_type": "display_data"
    }
   ],
   "source": [
    "from matplotlib import pyplot as plt\n",
    "from sklearn.metrics import roc_curve\n",
    "from sklearn.metrics import auc\n",
    "\n",
    "fpr, tpr, thresholds = roc_curve(ey_test, ey_pred)\n",
    "roc_auc = auc(fpr, tpr)\n",
    "\n",
    "plt.plot(fpr, tpr, label='ROC curve (area = %0.3f)' % roc_auc)\n",
    "plt.plot([0, 1], [0, 1], 'k--')  # random predictions curve\n",
    "plt.xlim([0.0, 1.0])\n",
    "plt.ylim([0.0, 1.0])\n",
    "plt.xlabel('FPR')\n",
    "plt.ylabel('TPR')\n",
    "plt.title('Receiver Operating Characteristic')\n",
    "plt.legend(loc=\"lower right\")"
   ]
  },
  {
   "cell_type": "code",
   "execution_count": 20,
   "id": "1eec9bc5",
   "metadata": {},
   "outputs": [
    {
     "data": {
      "application/vnd.jupyter.widget-view+json": {
       "model_id": "a6e90a35d88a47268f2518456c4488ac",
       "version_major": 2,
       "version_minor": 0
      },
      "text/plain": [
       "MetricVisualizer(layout=Layout(align_self='stretch', height='500px'))"
      ]
     },
     "metadata": {},
     "output_type": "display_data"
    },
    {
     "name": "stdout",
     "output_type": "stream",
     "text": [
      "Model is fitted: True\n",
      "Model params: {'iterations': 250, 'learning_rate': 0.255, 'random_seed': 63, 'eval_metric': 'AUC'}\n"
     ]
    }
   ],
   "source": [
    "import catboost\n",
    "from catboost import * \n",
    "from catboost import cv\n",
    "\n",
    "CX_train, CX_test, cy_train, cy_test = train_test_split(EX_train, ey_train, test_size=0.3, random_state=574836)\n",
    "\n",
    "model_with_less_params = CatBoostClassifier(\n",
    "    iterations=250,\n",
    "    learning_rate=0.255,\n",
    "    eval_metric='AUC',\n",
    "    random_seed=63,\n",
    "    #early_stopping_rounds=20\n",
    ")\n",
    "\n",
    "model_with_less_params.fit(CX_train, cy_train,\n",
    "         eval_set=(CX_test, cy_test),\n",
    "          verbose=False, plot=True\n",
    ")\n",
    "\n",
    "print(f\"Model is fitted: {str(model_with_less_params.is_fitted())}\")\n",
    "print(f\"Model params: {model_with_less_params.get_params()}\")"
   ]
  },
  {
   "cell_type": "code",
   "execution_count": 16,
   "id": "d0be96ba",
   "metadata": {},
   "outputs": [],
   "source": [
    "cy_pred = model_with_less_params.predict(EX_test)"
   ]
  },
  {
   "cell_type": "code",
   "execution_count": 17,
   "id": "f4c7acc5",
   "metadata": {},
   "outputs": [
    {
     "name": "stdout",
     "output_type": "stream",
     "text": [
      "              precision    recall  f1-score   support\n",
      "\n",
      "       human       0.98      0.98      0.98       448\n",
      "         bot       0.94      0.93      0.93       152\n",
      "\n",
      "    accuracy                           0.97       600\n",
      "   macro avg       0.96      0.95      0.96       600\n",
      "weighted avg       0.97      0.97      0.97       600\n",
      "\n"
     ]
    },
    {
     "data": {
      "image/png": "[encoded data removed]",
      "text/plain": [
       "<Figure size 640x480 with 2 Axes>"
      ]
     },
     "metadata": {},
     "output_type": "display_data"
    }
   ],
   "source": [
    "ConfusionMatrixDisplay(confusion_matrix(ey_test, cy_pred)).plot()\n",
    "print(classification_report(ey_test, ey_pred, target_names=['human', 'bot']))"
   ]
  },
  {
   "cell_type": "code",
   "execution_count": 28,
   "id": "dec126d3",
   "metadata": {},
   "outputs": [
    {
     "data": {
      "text/plain": [
       "<matplotlib.legend.Legend at 0x216a7acf490>"
      ]
     },
     "execution_count": 28,
     "metadata": {},
     "output_type": "execute_result"
    },
    {
     "data": {
      "image/png": "[encoded data removed]",
      "text/plain": [
       "<Figure size 640x480 with 1 Axes>"
      ]
     },
     "metadata": {},
     "output_type": "display_data"
    }
   ],
   "source": [
    "fpr, tpr, thresholds = roc_curve(ey_test, cy_pred)\n",
    "roc_auc = auc(fpr, tpr)\n",
    "\n",
    "plt.plot(fpr, tpr, label='ROC curve (area = %0.3f)' % roc_auc)\n",
    "plt.plot([0, 1], [0, 1], 'k--')  # random predictions curve\n",
    "plt.xlim([0.0, 1.0])\n",
    "plt.ylim([0.0, 1.0])\n",
    "plt.xlabel('FPR')\n",
    "plt.ylabel('TPR')\n",
    "plt.title('Receiver Operating Characteristic')\n",
    "plt.legend(loc=\"lower right\")"
   ]
  },
  {
   "cell_type": "code",
   "execution_count": 9,
   "id": "0c6af2cf",
   "metadata": {},
   "outputs": [
    {
     "name": "stdout",
     "output_type": "stream",
     "text": [
      "Fitting 3 folds for each of 100 candidates, totalling 300 fits\n"
     ]
    },
    {
     "name": "stderr",
     "output_type": "stream",
     "text": [
      "C:\\Users\\Vladislav\\anaconda3\\lib\\site-packages\\sklearn\\model_selection\\_search.py:926: DataConversionWarning: A column-vector y was passed when a 1d array was expected. Please change the shape of y to (n_samples,), for example using ravel().\n",
      "  self.best_estimator_.fit(X, y, **fit_params)\n"
     ]
    },
    {
     "data": {
      "text/plain": [
       "{'n_estimators': 700,\n",
       " 'min_samples_split': 2,\n",
       " 'min_samples_leaf': 2,\n",
       " 'max_features': 'log2',\n",
       " 'max_depth': 11,\n",
       " 'bootstrap': True}"
      ]
     },
     "execution_count": 9,
     "metadata": {},
     "output_type": "execute_result"
    }
   ],
   "source": [
    "from sklearn.model_selection import RandomizedSearchCV\n",
    "n_estimators = [int(x) for x in np.linspace(start = 100, stop = 1000, num = 10)]\n",
    "max_features = ['log2', 'sqrt']\n",
    "max_depth = [int(x) for x in np.linspace(start = 1, stop = 15, num = 15)]\n",
    "min_samples_split = [int(x) for x in np.linspace(start = 2, stop = 50, num = 10)]\n",
    "min_samples_leaf = [int(x) for x in np.linspace(start = 2, stop = 50, num = 10)]\n",
    "bootstrap = [True, False]\n",
    "param_dist = {'n_estimators': n_estimators,\n",
    "               'max_features': max_features,\n",
    "               'max_depth': max_depth,\n",
    "               'min_samples_split': min_samples_split,\n",
    "               'min_samples_leaf': min_samples_leaf,\n",
    "               'bootstrap': bootstrap}\n",
    "rs = RandomizedSearchCV(RandomForestClassifier(), \n",
    "                        param_dist, \n",
    "                        n_iter = 100, \n",
    "                        cv = 3, \n",
    "                        verbose = 1, \n",
    "                        n_jobs=-1, \n",
    "                        random_state=0)\n",
    "rs.fit(EX_train, ey_train)\n",
    "rs.best_params_"
   ]
  },
  {
   "cell_type": "code",
   "execution_count": 10,
   "id": "01f0a978",
   "metadata": {},
   "outputs": [
    {
     "name": "stdout",
     "output_type": "stream",
     "text": [
      "Fitting 3 folds for each of 81 candidates, totalling 243 fits\n"
     ]
    },
    {
     "name": "stderr",
     "output_type": "stream",
     "text": [
      "C:\\Users\\Vladislav\\anaconda3\\lib\\site-packages\\sklearn\\model_selection\\_search.py:926: DataConversionWarning: A column-vector y was passed when a 1d array was expected. Please change the shape of y to (n_samples,), for example using ravel().\n",
      "  self.best_estimator_.fit(X, y, **fit_params)\n"
     ]
    },
    {
     "data": {
      "text/plain": [
       "{'bootstrap': False,\n",
       " 'max_depth': 15,\n",
       " 'max_features': 'sqrt',\n",
       " 'min_samples_leaf': 4,\n",
       " 'min_samples_split': 23,\n",
       " 'n_estimators': 400}"
      ]
     },
     "execution_count": 10,
     "metadata": {},
     "output_type": "execute_result"
    }
   ],
   "source": [
    "from sklearn.model_selection import GridSearchCV\n",
    "n_estimators = [400,500]\n",
    "max_depth = [13,14,15]\n",
    "min_samples_split = [22,23,24]\n",
    "min_samples_leaf = [2,3,4]\n",
    "max_features = ['sqrt']\n",
    "bootstrap = [False]\n",
    "param_grid = {'n_estimators': n_estimators,\n",
    "               'max_features': max_features,\n",
    "               'max_depth': max_depth,\n",
    "               'min_samples_split': min_samples_split,\n",
    "               'min_samples_leaf': min_samples_leaf,\n",
    "               'bootstrap': bootstrap}\n",
    "\n",
    "gs = GridSearchCV(RandomForestClassifier(), param_grid, cv = 3, verbose = 1, n_jobs=-1)\n",
    "gs.fit(EX_train, ey_train)\n",
    "rfc_3 = gs.best_estimator_\n",
    "gs.best_params_"
   ]
  },
  {
   "cell_type": "code",
   "execution_count": 11,
   "id": "c3c7bddf",
   "metadata": {},
   "outputs": [
    {
     "name": "stdout",
     "output_type": "stream",
     "text": [
      "              precision    recall  f1-score   support\n",
      "\n",
      "       human       0.97      0.98      0.98       448\n",
      "         bot       0.95      0.91      0.93       152\n",
      "\n",
      "    accuracy                           0.96       600\n",
      "   macro avg       0.96      0.95      0.95       600\n",
      "weighted avg       0.96      0.96      0.96       600\n",
      "\n"
     ]
    },
    {
     "data": {
      "image/png": "[encoded data removed]",
      "text/plain": [
       "<Figure size 640x480 with 2 Axes>"
      ]
     },
     "metadata": {},
     "output_type": "display_data"
    }
   ],
   "source": [
    "best_pred = rfc_3.predict(EX_test)\n",
    "ConfusionMatrixDisplay(confusion_matrix(ey_test, best_pred)).plot()\n",
    "print(classification_report(ey_test, best_pred, target_names=['human', 'bot']))"
   ]
  },
  {
   "cell_type": "code",
   "execution_count": 30,
   "id": "47c968f1",
   "metadata": {},
   "outputs": [
    {
     "data": {
      "text/plain": [
       "<matplotlib.legend.Legend at 0x216a7b34310>"
      ]
     },
     "execution_count": 30,
     "metadata": {},
     "output_type": "execute_result"
    },
    {
     "data": {
      "image/png": "[encoded data removed]",
      "text/plain": [
       "<Figure size 640x480 with 1 Axes>"
      ]
     },
     "metadata": {},
     "output_type": "display_data"
    }
   ],
   "source": [
    "fpr, tpr, thresholds = roc_curve(ey_test, best_pred)\n",
    "roc_auc = auc(fpr, tpr)\n",
    "\n",
    "plt.plot(fpr, tpr, label='ROC curve (area = %0.3f)' % roc_auc)\n",
    "plt.plot([0, 1], [0, 1], 'k--')  # random predictions curve\n",
    "plt.xlim([0.0, 1.0])\n",
    "plt.ylim([0.0, 1.0])\n",
    "plt.xlabel('FPR')\n",
    "plt.ylabel('TPR')\n",
    "plt.title('Receiver Operating Characteristic')\n",
    "plt.legend(loc=\"lower right\")"
   ]
  },
  {
   "cell_type": "markdown",
   "id": "c0ab3f92",
   "metadata": {},
   "source": [
    "Можно увидеть, что при сокращении количества признаков до 10 модели всё ещё сохраняют приемлемую точность классификации. Метод опорных векторов даёт минимальную вероятность ложного срабатывания, а градиентный бустинг обеспечивает минимальную вероятность пропуска ботов."
   ]
  },
  {
   "cell_type": "code",
   "execution_count": null,
   "id": "ea4c456d",
   "metadata": {},
   "outputs": [],
   "source": []
  }
 ],
 "metadata": {
  "kernelspec": {
   "display_name": "Python 3 (ipykernel)",
   "language": "python",
   "name": "python3"
  },
  "language_info": {
   "codemirror_mode": {
    "name": "ipython",
    "version": 3
   },
   "file_extension": ".py",
   "mimetype": "text/x-python",
   "name": "python",
   "nbconvert_exporter": "python",
   "pygments_lexer": "ipython3",
   "version": "3.9.13"
  }
 },
 "nbformat": 4,
 "nbformat_minor": 5
}
